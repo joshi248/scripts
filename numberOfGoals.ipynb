{
 "cells": [
  {
   "cell_type": "code",
   "execution_count": null,
   "metadata": {},
   "outputs": [],
   "source": [
    "'''\n",
    "In this challenge, the REST API contains information about football competitions and matches. The provided API allows querying competitions by name and year, and it also allows querying matches by competition and year. The task, for a given competition name and year, is to get the total number of goals scored by the team who won the competition.\n",
    "To access a competition, perform an HTTP GET request to\n",
    "https://jsonmock.hackerrank.com/api/football_competitions?name=<name>&year=<year>\n",
    "where <name> is the name of the competition and <year> is the year of the competition.\n",
    "\n",
    "For example GET request to\n",
    "https://jsonmock.hackerrank.com/api/football_competitions?name=EnglishPremierLeague&year=2014\n",
    "returns data associated with the English Premier League in the year 2014.\n",
    "The response to such a request is a JSON object that contains the property data, which is an array of competitions. In this case, the array will contain only a single item. The item has the following 5 fields:\n",
    "-> name: a string denoting the name of the competition\n",
    "-> country: a string denoting the name of the country of the competition\n",
    "-> year: an integer denoting the year of the competition\n",
    "-> winner: a string denoting the team that won the competition\n",
    "-> runnerup: a string denoting the team that was the runner-up in the competition\n",
    "\n",
    "Below is an example of the JSON object:\n",
    "{\n",
    "  \"name\": \"English Premier League\",\n",
    "  \"country\": \"England\",\n",
    "  \"year\": 2014,\n",
    "  \"winner\": \"Chelsea\",\n",
    "  \"runnerup\": \"Manchester City\"\n",
    "}\n",
    "\n",
    "Next, to access a collection of matches played by a given team in a given competition and year, perform GET requests to\n",
    "https://jsonmock.hackerrank.com/api/football_matches?competition=<competition>&year=<year>&team1=<team>&page=<page>\n",
    "https://jsonmock.hackerrank.com/api/football_matches?competition=<competition>&year=<year>&team2=<team>&page=<page>\n",
    "\n",
    "Here, <competition> is the name of the competition, <year> is the year of the competition, <team> is the name of the team, and <page> is the page of the results to request. The results might be divided into several pages. Pages are numbered from 1.\n",
    "\n",
    "Notice that the above two URLs are different. The first URL specifies the team1 parameter (denoting the home team) while the second URL specifies the team2 parameter (denoting the visiting team). Thus, in order to get all the matches a particular team played in, you need to retrieve matches where the team was the home team and the visiting team.\n",
    "\n",
    "For example, a GET request to\n",
    "https://jsonmock.hackerrank.com/api/football_matches?competition=UEFA%20Champions%20League&year=2011&team1=Barcelona&page=2\n",
    "\n",
    "returns data associated with matches in the UEFA Champions League in the year 2011, where team1 (the home team) was Barcelona, on the second page of the results\n",
    "\n",
    "Similarly, a GET request to\n",
    "https://jsonmock.hackerrank.com/api/football_matches?competition=UEFA%20Champions%20League&year=2011&team2=Barcelona&page=1\n",
    "\n",
    "returns data associated with matches in the UEFA Champions League in the year 2011, where team2 (the visiting team) was Barcelona, on the first page of the results.\n",
    "\n",
    "The response to such a request is a JSON with the following 5 fields:\n",
    "\n",
    "-> page: The current page of the results.\n",
    "-> per_page: The maximum number of matches returned per page.\n",
    "-> total: The total number of matches on all pages of the results.\n",
    "-> total_pages: The total number of pages with results.\n",
    "-> data: An array of objects containing matches information on the requested page\n",
    "-> Each match record has several fields, but in this task only the following 4 are relevant:\n",
    "-> team1: a string denoting the name of the first team in the match\n",
    "-> team2: a string denoting the name of the second team in the match\n",
    "-> team1goals: a string denoting the number of goals scored by team1 in the match\n",
    "-> team2goals: a string denoting the number of goals scored by team2 in the match\n",
    "\n",
    "Function Description\n",
    "\n",
    "Complete the function getWinnerTotalGoals in the editor below.\n",
    "\n",
    "getWinnerTotalGoals has the following parameters:\n",
    "    string competition: the name of the competition\n",
    "    int year: the year of the competition\n",
    "\n",
    "     \n",
    "The function must return an integer denoting the total number of goals scored in all matches in the given competition by the team who won the competition.\n",
    "\n",
    "Sample Case 0\n",
    "\n",
    "Input                       Output\n",
    "UEFA Champions League       28\n",
    "2011\n",
    "\n",
    "Sample Case 1\n",
    "Input                       Output\n",
    "Barcelona                   35\n",
    "2011\n",
    "\n",
    "Explanation of case 0\n",
    "The competition is UEFA Champions League and the year is 2011. One of the API endpoints can be used to determine that team Chelsea won this competition. Then, another endpoint can be used to find out that the total number of goals scored by Chelsea during this competition is 28, which is the required answer.\n",
    "\n",
    "'''"
   ]
  },
  {
   "cell_type": "code",
   "execution_count": 6,
   "metadata": {},
   "outputs": [],
   "source": [
    "import requests, json\n",
    "year = 2011\n",
    "team = 'Chelsea'\n",
    "competition = 'UEFA Champions League'"
   ]
  },
  {
   "cell_type": "code",
   "execution_count": 7,
   "metadata": {},
   "outputs": [],
   "source": [
    "# FOR GETTING IN EXTERNAL FILE DO NOT USE .json() at the end\n",
    "# response = requests.get('https://jsonmock.hackerrank.com/api/football_matches?year='+str(year)+'&team1='+str(team)+'&page=1')\n",
    "\n",
    "\n",
    "\n",
    "response = requests.get('https://jsonmock.hackerrank.com/api/football_matches?year='+str(year)+'&team1='+str(team)+'&page=1').json()\n"
   ]
  },
  {
   "cell_type": "code",
   "execution_count": 4,
   "metadata": {},
   "outputs": [],
   "source": [
    "# USE THIS ONLY FOR getting RESPONSE IN AN EXTERNAL FILE\n",
    "\n",
    "data_dict = response.json()\n",
    "with open('out.txt', 'w') as f:\n",
    "    f.write(json.dumps(data_dict, indent=4))\n"
   ]
  },
  {
   "cell_type": "code",
   "execution_count": null,
   "metadata": {},
   "outputs": [],
   "source": [
    "response"
   ]
  },
  {
   "cell_type": "code",
   "execution_count": 11,
   "metadata": {},
   "outputs": [
    {
     "name": "stdout",
     "output_type": "stream",
     "text": [
      "26\n"
     ]
    },
    {
     "ename": "IndexError",
     "evalue": "list index out of range",
     "output_type": "error",
     "traceback": [
      "\u001b[1;31m---------------------------------------------------------------------------\u001b[0m",
      "\u001b[1;31mIndexError\u001b[0m                                Traceback (most recent call last)",
      "Cell \u001b[1;32mIn[11], line 4\u001b[0m\n\u001b[0;32m      2\u001b[0m \u001b[39mprint\u001b[39m(response[\u001b[39m'\u001b[39m\u001b[39mtotal\u001b[39m\u001b[39m'\u001b[39m])\n\u001b[0;32m      3\u001b[0m \u001b[39mfor\u001b[39;00m i \u001b[39min\u001b[39;00m \u001b[39mrange\u001b[39m(response[\u001b[39m'\u001b[39m\u001b[39mtotal\u001b[39m\u001b[39m'\u001b[39m]):\n\u001b[1;32m----> 4\u001b[0m     ans \u001b[39m+\u001b[39m\u001b[39m=\u001b[39m \u001b[39mint\u001b[39m(response[\u001b[39m'\u001b[39;49m\u001b[39mdata\u001b[39;49m\u001b[39m'\u001b[39;49m][i][\u001b[39m'\u001b[39m\u001b[39mteam1goals\u001b[39m\u001b[39m'\u001b[39m])\n\u001b[0;32m      6\u001b[0m \u001b[39mprint\u001b[39m(ans)\n",
      "\u001b[1;31mIndexError\u001b[0m: list index out of range"
     ]
    }
   ],
   "source": [
    "ans = 0\n",
    "print(response['total'])\n",
    "for i in range(response['total']):\n",
    "    ans += int(response['data'][i]['team1goals'])\n",
    "\n",
    "print(ans)"
   ]
  },
  {
   "cell_type": "code",
   "execution_count": 12,
   "metadata": {},
   "outputs": [
    {
     "ename": "IndexError",
     "evalue": "list index out of range",
     "output_type": "error",
     "traceback": [
      "\u001b[1;31m---------------------------------------------------------------------------\u001b[0m",
      "\u001b[1;31mIndexError\u001b[0m                                Traceback (most recent call last)",
      "Cell \u001b[1;32mIn[12], line 6\u001b[0m\n\u001b[0;32m      3\u001b[0m \u001b[39m# print(response2)\u001b[39;00m\n\u001b[0;32m      5\u001b[0m \u001b[39mfor\u001b[39;00m i \u001b[39min\u001b[39;00m \u001b[39mrange\u001b[39m(response2[\u001b[39m'\u001b[39m\u001b[39mtotal\u001b[39m\u001b[39m'\u001b[39m]):\n\u001b[1;32m----> 6\u001b[0m     ans \u001b[39m+\u001b[39m\u001b[39m=\u001b[39m \u001b[39mint\u001b[39m(response2[\u001b[39m'\u001b[39;49m\u001b[39mdata\u001b[39;49m\u001b[39m'\u001b[39;49m][i][\u001b[39m'\u001b[39m\u001b[39mteam2goals\u001b[39m\u001b[39m'\u001b[39m])\n\u001b[0;32m      8\u001b[0m \u001b[39mprint\u001b[39m(ans)\n",
      "\u001b[1;31mIndexError\u001b[0m: list index out of range"
     ]
    }
   ],
   "source": [
    "response2 = requests.get('https://jsonmock.hackerrank.com/api/football_matches?year='+str(year)+'&team2='+str(team)+'&page=1').json()\n",
    "\n",
    "# print(response2)\n",
    "\n",
    "for i in range(response2['total']):\n",
    "    ans += int(response2['data'][i]['team2goals'])\n",
    "\n",
    "print(ans)\n"
   ]
  }
 ],
 "metadata": {
  "kernelspec": {
   "display_name": "Python 3",
   "language": "python",
   "name": "python3"
  },
  "language_info": {
   "codemirror_mode": {
    "name": "ipython",
    "version": 3
   },
   "file_extension": ".py",
   "mimetype": "text/x-python",
   "name": "python",
   "nbconvert_exporter": "python",
   "pygments_lexer": "ipython3",
   "version": "3.10.5"
  },
  "orig_nbformat": 4
 },
 "nbformat": 4,
 "nbformat_minor": 2
}
