{
 "cells": [
  {
   "cell_type": "code",
   "execution_count": null,
   "metadata": {},
   "outputs": [],
   "source": [
    "# Football Matches, Competitions, Winning team, year\n",
    "#There, will be some team. Which have won that tournament.\n",
    "# We neeed to find the total goals scored by that team. -> not of year, winner of the competition"
   ]
  },
  {
   "cell_type": "code",
   "execution_count": 1,
   "metadata": {},
   "outputs": [],
   "source": [
    "import requests"
   ]
  },
  {
   "cell_type": "code",
   "execution_count": 2,
   "metadata": {},
   "outputs": [],
   "source": [
    "competition = input()\n",
    "year = int(input())"
   ]
  },
  {
   "cell_type": "code",
   "execution_count": 3,
   "metadata": {},
   "outputs": [],
   "source": [
    "response = requests.get('https://jsonmock.hackerrank.com/api/football_competitions?name=' + competition + '&year=' + str(year)).json()"
   ]
  },
  {
   "cell_type": "code",
   "execution_count": 4,
   "metadata": {},
   "outputs": [],
   "source": [
    "# response\n",
    "# print(response['data'][0]['winner'])\n",
    "winning_team = response['data'][0]['winner']"
   ]
  },
  {
   "cell_type": "code",
   "execution_count": 5,
   "metadata": {},
   "outputs": [],
   "source": [
    "total_goals = 0\n",
    "\n",
    "\n",
    "home_team_response = requests.get('https://jsonmock.hackerrank.com/api/football_matches?competition=' + competition + '&year=' + str(year) + '&team1=' + winning_team + '&page=1').json()\n",
    "\n",
    "\n",
    "visiting_team_response = requests.get('https://jsonmock.hackerrank.com/api/football_matches?competition=' + competition + '&year=' + str(year) + '&team2=' + winning_team + '&page=1').json()\n",
    "\n",
    "\n",
    "home_team_total_page = home_team_response['total_pages']\n",
    "\n",
    "visiting_team_total_page = visiting_team_response['total_pages']"
   ]
  },
  {
   "cell_type": "code",
   "execution_count": 6,
   "metadata": {},
   "outputs": [],
   "source": [
    "home_team_per_page = home_team_response['per_page']\n",
    "\n",
    "visiting_team_per_page = visiting_team_response['per_page']"
   ]
  },
  {
   "cell_type": "code",
   "execution_count": 7,
   "metadata": {},
   "outputs": [
    {
     "name": "stdout",
     "output_type": "stream",
     "text": [
      "0\n"
     ]
    }
   ],
   "source": [
    "for i in range(1, home_team_total_page + 1):\n",
    "    temp_response_home = requests.get('https://jsonmock.hackerrank.com/api/football_matches?competition=' + competition + '&year=' + str(year) + '&team1=' + winning_team + '&page=' + str(i)).json()\n",
    "    for j in range(home_team_per_page):\n",
    "        try:\n",
    "            team1Goals = temp_response_home['data'][j]['team1goals']\n",
    "            total_goals += int(team1Goals)\n",
    "\n",
    "        except:\n",
    "            pass\n",
    "\n",
    "for i in range(1, visiting_team_total_page + 1):\n",
    "    temp_response_visiting = requests.get('https://jsonmock.hackerrank.com/api/football_matches?competition=' + competition + '&year=' + str(year) + '&team2=' + winning_team + '&page=' + str(i)).json()\n",
    "\n",
    "    for j in range(visiting_team_per_page):\n",
    "        try:\n",
    "            team2Goals = temp_response_visiting['data'][j]['team2goals']\n",
    "            total_goals += int(team2Goals)\n",
    "\n",
    "        except:\n",
    "            pass"
   ]
  },
  {
   "cell_type": "code",
   "execution_count": 8,
   "metadata": {},
   "outputs": [
    {
     "name": "stdout",
     "output_type": "stream",
     "text": [
      "28\n"
     ]
    }
   ],
   "source": [
    "print(total_goals)"
   ]
  }
 ],
 "metadata": {
  "kernelspec": {
   "display_name": "Python 3",
   "language": "python",
   "name": "python3"
  },
  "language_info": {
   "codemirror_mode": {
    "name": "ipython",
    "version": 3
   },
   "file_extension": ".py",
   "mimetype": "text/x-python",
   "name": "python",
   "nbconvert_exporter": "python",
   "pygments_lexer": "ipython3",
   "version": "3.10.5"
  },
  "orig_nbformat": 4
 },
 "nbformat": 4,
 "nbformat_minor": 2
}
